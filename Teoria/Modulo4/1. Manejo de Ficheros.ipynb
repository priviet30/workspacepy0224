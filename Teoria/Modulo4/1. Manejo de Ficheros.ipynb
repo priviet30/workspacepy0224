{
 "cells": [
  {
   "cell_type": "markdown",
   "metadata": {},
   "source": [
    "# Manejo de Ficheros en Python\n",
    "------------------------"
   ]
  },
  {
   "cell_type": "markdown",
   "metadata": {},
   "source": [
    "Hasta ahora, hemos aprendido a escribir programas y comunicar nuestras intenciones a la CPU mediante condicionales, funciones e iteraciones. Hemos aprendido cómo crear y utilizar estructuras de datos como listas y cadenas en la memoria principal. La CPU y la memoria son donde nuestro software funciona y se ejecuta. Es donde ocurre todo el \"pensamiento\".\n",
    "\n",
    "Pero lo que ocurre **una vez que nuestro programa finaliza, todo lo almacenado en la CPU o en la memoria principal se borra**. Hasta ahora, nuestros programas sólo han producido resultados temporales.\n",
    "\n",
    "**Mediante el manejo de archivos aprenderemos a almacenar datos y recuperar información de archivos de texto básicos.**\n"
   ]
  },
  {
   "cell_type": "markdown",
   "metadata": {},
   "source": [
    "<img src='https://snakebear.science/_images/arch1.svg'>"
   ]
  },
  {
   "cell_type": "markdown",
   "metadata": {},
   "source": [
    "## 1. Objeto File\n",
    "------------------------------"
   ]
  },
  {
   "cell_type": "markdown",
   "metadata": {},
   "source": [
    "<img src='https://snakebear.science/_images/file_object.svg'>"
   ]
  },
  {
   "cell_type": "markdown",
   "metadata": {},
   "source": [
    "Al igual que sucede con otras variables, manipular una de ellas como un objeto File, es posible, cuando a ésta, se le asigna como valor un archivo. \n",
    "Para asignar a una variable un valor de tipo file, solo es necesario recurrir a la función integrada open(), la cuál está destinada a la apertura de un archivo.\n",
    "\n",
    "- La función integrada open(), recibe dos parámetros: – El primero de ellos, es la ruta hacia el archivo que se desea abrir \n",
    "\n",
    "- Y el segundo, el modo en el cual abrirlo"
   ]
  },
  {
   "cell_type": "code",
   "execution_count": 2,
   "metadata": {},
   "outputs": [
    {
     "name": "stdout",
     "output_type": "stream",
     "text": [
      "Archivo por leer 1era forma\n",
      "Pug\n",
      "Jack Russell Terrier\n",
      "English Springer Spaniel\n",
      "German Shepherd\n",
      "Staffordshire Bull Terrier\n",
      "Cavalier King Charles Spaniel\n",
      "Golden Retriever\n",
      "West Highland White Terrier\n",
      "Boxer\n",
      "Border Terrier\n"
     ]
    }
   ],
   "source": [
    "# Forma 1 de apertura a partir del método with \n",
    "#consideraciones generales para manejo de archivos : donde se ejecuta el programa , a donde apunta lo que vas llamar o abrir \n",
    "ruta_archivo = './src/dog_breeds.txt' #donde se almacena # ruta relativa \n",
    "# en windows al usar la ruta absoltua agregar un /  => C://Users//Carpeta01//Carpeta02//archivo.txt \n",
    "with open(ruta_archivo,mode='r') as file:\n",
    "    # capturo la información del archivo\n",
    "    data = file.read()\n",
    "    pass # Archivo se cierra de forma automática\n",
    "\n",
    "# muestro la data\n",
    "print(data)\n",
    "#print(\"hello\",'\\n',\"word\")\n",
    "\n",
    "\n",
    "#/workspaces/workspacepy0224/Teoria/Modulo2\n",
    "#Teoria/Modulo2\n",
    "\n"
   ]
  },
  {
   "cell_type": "code",
   "execution_count": 18,
   "metadata": {},
   "outputs": [
    {
     "name": "stdout",
     "output_type": "stream",
     "text": [
      "['Archivo por leer 1era forma\\n', 'Pug\\n', 'Jack Russell Terrier\\n', 'English Springer Spaniel\\n', 'German Shepherd\\n', 'Staffordshire Bull Terrier\\n', 'Cavalier King Charles Spaniel\\n', 'Golden Retriever\\n', 'West Highland White Terrier\\n', 'Boxer \\\\n\\n', '\\\\t Border Terrier']\n"
     ]
    }
   ],
   "source": [
    "# Forma 2 de apertura\n",
    "ruta_archivo = './src/dog_breeds.txt'\n",
    "f = open(ruta_archivo) # por defecto el modo de abrir el archivo es \"lectura\"\n",
    "data = f.readlines() # readlines -> permite leer todas las líneas del archivo, en forma de lista\n",
    "f.close() # necesariamente debemos cerrar nuestro archivo\n",
    "\n",
    "print(data)"
   ]
  },
  {
   "cell_type": "code",
   "execution_count": 13,
   "metadata": {},
   "outputs": [
    {
     "data": {
      "text/plain": [
       "True"
      ]
     },
     "execution_count": 13,
     "metadata": {},
     "output_type": "execute_result"
    }
   ],
   "source": [
    "# Valido si archivo se encuentra efectivamente cerrado\n",
    "f.closed"
   ]
  },
  {
   "cell_type": "code",
   "execution_count": 15,
   "metadata": {},
   "outputs": [
    {
     "data": {
      "text/plain": [
       "'Archivo por leer 1era forma\\nPug\\nJack Russell Terrier\\nEnglish Springer Spaniel\\nGerman Shepherd\\nStaffordshire Bull Terrier\\nCavalier King Charles Spaniel\\nGolden Retriever\\nWest Highland White Terrier\\nBoxer \\\\n\\n\\\\t Border Terrier'"
      ]
     },
     "execution_count": 15,
     "metadata": {},
     "output_type": "execute_result"
    }
   ],
   "source": [
    "\"\"\"\n",
    "recordemos que nuestra data en un archivo tendrá saltos de linea y posiblemente tabulaciones.\n",
    "Estos se representan de la siguiente manera\n",
    "# \\t -> tab\n",
    "# \\n -> salto de linea\n",
    "\"\"\"\n",
    "\n",
    "data"
   ]
  },
  {
   "cell_type": "markdown",
   "metadata": {},
   "source": [
    "### 1.1 Modos de Apertura"
   ]
  },
  {
   "cell_type": "markdown",
   "metadata": {},
   "source": [
    "Por defecto un archivo se apertura en modo **lectura (r)** pero en la práctica existen muchos más modos los cuales nos permitiran escribir (w) o modificar un archivo ya existente"
   ]
  },
  {
   "cell_type": "markdown",
   "metadata": {},
   "source": [
    "<img src='./img/modo_apertura.PNG'>"
   ]
  },
  {
   "cell_type": "markdown",
   "metadata": {},
   "source": [
    "<img src='./img/modo_apertura2.PNG'>"
   ]
  },
  {
   "cell_type": "markdown",
   "metadata": {},
   "source": [
    "### 1.2 Métodos de Archivos"
   ]
  },
  {
   "cell_type": "markdown",
   "metadata": {},
   "source": [
    "El objeto file, entre sus métodos más frecuentes, dispone de los siguientes"
   ]
  },
  {
   "cell_type": "markdown",
   "metadata": {},
   "source": [
    "<img src='./img/metodos_files.PNG'>"
   ]
  },
  {
   "cell_type": "markdown",
   "metadata": {
    "tags": []
   },
   "source": [
    "## 2. Lectura Archivos\n",
    "\n",
    "El objetivo de lectura de un archivo será el poder emplear los datos recuperados para poder realizar algún tipo de procesamiento a nuestra información."
   ]
  },
  {
   "cell_type": "code",
   "execution_count": null,
   "metadata": {},
   "outputs": [],
   "source": [
    "\"\"\"Ejemplo 1\n",
    "-------------------\n",
    "Recuperar los datos del archivo 'dog_breeds.txt' y pasar a minúscula todo el texto contenido en el archivo\n",
    "\"\"\"\n",
    "#  read -> Método que permite la lectura de todo el archivo como str\n",
    "with open('./src/dog_breeds.txt') as f:\n",
    "    data = f.read()\n",
    "\n",
    "# hago transformación de la data en memoria\n",
    "data_minuscula = data.lower()\n",
    "print(data_minuscula)\n"
   ]
  },
  {
   "cell_type": "code",
   "execution_count": 19,
   "metadata": {},
   "outputs": [
    {
     "data": {
      "text/plain": [
       "['Archivo por leer 1era forma\\n',\n",
       " 'Pug\\n',\n",
       " 'Jack Russell Terrier\\n',\n",
       " 'English Springer Spaniel\\n',\n",
       " 'German Shepherd\\n',\n",
       " 'Staffordshire Bull Terrier\\n',\n",
       " 'Cavalier King Charles Spaniel\\n',\n",
       " 'Golden Retriever\\n',\n",
       " 'West Highland White Terrier\\n',\n",
       " 'Boxer \\\\n\\n',\n",
       " '\\\\t Border Terrier']"
      ]
     },
     "execution_count": 19,
     "metadata": {},
     "output_type": "execute_result"
    }
   ],
   "source": [
    "\"\"\"\n",
    "Ejemplo 2\n",
    "-----------------\n",
    "Empleando el archivo 'dog_breeds.txt', agregar delante de cada linea del archivo la palabra 'Dog race:' \n",
    "\"\"\"\n",
    "\n",
    "with open('./src/dog_breeds.txt') as f:\n",
    "    lineas_file = f.readlines() # read_lines -> retorna un listado \n",
    "    \n",
    "lineas_file"
   ]
  },
  {
   "cell_type": "code",
   "execution_count": 20,
   "metadata": {},
   "outputs": [
    {
     "data": {
      "text/plain": [
       "['Dog race: Archivo por leer 1era forma\\n',\n",
       " 'Dog race: Pug\\n',\n",
       " 'Dog race: Jack Russell Terrier\\n',\n",
       " 'Dog race: English Springer Spaniel\\n',\n",
       " 'Dog race: German Shepherd\\n',\n",
       " 'Dog race: Staffordshire Bull Terrier\\n',\n",
       " 'Dog race: Cavalier King Charles Spaniel\\n',\n",
       " 'Dog race: Golden Retriever\\n',\n",
       " 'Dog race: West Highland White Terrier\\n',\n",
       " 'Dog race: Boxer \\\\n\\n',\n",
       " 'Dog race: \\\\t Border Terrier']"
      ]
     },
     "execution_count": 20,
     "metadata": {},
     "output_type": "execute_result"
    }
   ],
   "source": [
    "# agregando palabra a cada linea del listado\n",
    "new_list = []\n",
    "for line in lineas_file:\n",
    "    new_line = f'Dog race: {line}'\n",
    "    new_list.append(new_line)\n",
    "\n",
    "new_list\n",
    "\n"
   ]
  },
  {
   "cell_type": "markdown",
   "metadata": {},
   "source": [
    "También se puede leer un fichero utilizando la instrucción estándar with de la siguiente forma:"
   ]
  },
  {
   "cell_type": "code",
   "execution_count": null,
   "metadata": {},
   "outputs": [],
   "source": [
    "# lectura y procesamiento\n",
    "new_list = []\n",
    "with open('./src/dog_breeds.txt', \"r\") as fichero:\n",
    "    for linea in fichero:\n",
    "        new_line = f'Dog race: {linea}'\n",
    "        new_list.append(new_line)\n",
    "\n",
    "new_list"
   ]
  },
  {
   "cell_type": "markdown",
   "metadata": {},
   "source": [
    "## 3. Escritura\n",
    "\n",
    "El objetivo de este punto será el almacenar nuestros datos generados en algún archivo"
   ]
  },
  {
   "cell_type": "code",
   "execution_count": 24,
   "metadata": {},
   "outputs": [],
   "source": [
    "# 1. Escritura de un fichero\n",
    "texto = \"Una línea \\tcon texto \\n Otra línea con texto v2\"\n",
    "\n",
    "# Ruta donde crearemos el fichero, w indica escritura (puntero al principio)\n",
    "# De existir el archivo, este será eliminado y creado uno nuevo \n",
    "with open('./src/escritura.txt','w') as f:\n",
    "    # Escribimos el texto\n",
    "    f.write(texto)"
   ]
  },
  {
   "cell_type": "code",
   "execution_count": 25,
   "metadata": {},
   "outputs": [
    {
     "name": "stdout",
     "output_type": "stream",
     "text": [
      "Una línea \tcon texto \n",
      " Otra línea con texto v2\n"
     ]
    }
   ],
   "source": [
    "# lectura en una linea\n",
    "data = open('./src/escritura.txt','r').read()\n",
    "print(data)"
   ]
  },
  {
   "cell_type": "code",
   "execution_count": 27,
   "metadata": {},
   "outputs": [],
   "source": [
    "# 2. Escritura de una lista\n",
    "\n",
    "# debemos colocar saltos de linea para que cada elemento de nuestra lista \n",
    "# sea interpretada como una nueva linea de texto\n",
    "lista_escribir = [\"Una línea \\tcon texto\\n\"\n",
    "                  ,\"Otra línea con texto\\n\"\n",
    "                  , 'contenido a añadir'\n",
    "                  ]"
   ]
  },
  {
   "cell_type": "code",
   "execution_count": 30,
   "metadata": {},
   "outputs": [],
   "source": [
    "with open('./src/nuevo_fichero.txt','w') as f:\n",
    "    # Escribimos el texto\n",
    "    f.writelines(lista_escribir)"
   ]
  },
  {
   "cell_type": "markdown",
   "metadata": {},
   "source": [
    "Este modo nos permite añadir datos al final de un fichero:"
   ]
  },
  {
   "cell_type": "code",
   "execution_count": 31,
   "metadata": {},
   "outputs": [],
   "source": [
    "# Ruta donde leeremos el fichero, a indica extensión (puntero al final)\n",
    "for i in range(15):\n",
    "    with open('./src/nuevo_fichero.txt','a') as f:\n",
    "        f.write('\\nmás lineas')"
   ]
  },
  {
   "cell_type": "code",
   "execution_count": null,
   "metadata": {},
   "outputs": [],
   "source": []
  },
  {
   "cell_type": "markdown",
   "metadata": {},
   "source": [
    "## 4. <a href='https://docs.python.org/2.4/lib/standard-encodings.html'>Encoding</a>"
   ]
  },
  {
   "cell_type": "markdown",
   "metadata": {},
   "source": [
    "**encoding** es el nombre de la codificación utilizada para decodificar o codificar el archivo. Esto solo debe usarse en modo texto. La codificación predeterminada es dependiente de la plataforma, pero cualquier codificación compatible con Python se puede utilizar."
   ]
  },
  {
   "cell_type": "markdown",
   "metadata": {},
   "source": [
    "Más conocidos:\n",
    "\n",
    "- utf-8\n",
    "- latin1\n",
    "- ascii\n"
   ]
  },
  {
   "cell_type": "markdown",
   "metadata": {},
   "source": [
    "#### Lectura sin encoding con texto español\n",
    "\n",
    "\n"
   ]
  },
  {
   "cell_type": "code",
   "execution_count": 35,
   "metadata": {},
   "outputs": [
    {
     "name": "stdout",
     "output_type": "stream",
     "text": [
      "Hola este es un archivo con carácteres en español\n",
      "Texto con caracteres especiales: áéíóúñü\n"
     ]
    }
   ],
   "source": [
    "with open('./src/fichero_esp.txt','r') as f:\n",
    "    texto = f.read()\n",
    "\n",
    "print(texto)"
   ]
  },
  {
   "cell_type": "markdown",
   "metadata": {},
   "source": [
    "#### Lectura con encoding utf-8"
   ]
  },
  {
   "cell_type": "code",
   "execution_count": 36,
   "metadata": {},
   "outputs": [
    {
     "name": "stdout",
     "output_type": "stream",
     "text": [
      "Hola este es un archivo con carácteres en español\n",
      "Texto con caracteres especiales: áéíóúñü\n"
     ]
    }
   ],
   "source": [
    "with open('./src/fichero_esp.txt',encoding='utf-8') as f:\n",
    "    texto = f.read()\n",
    "    print(texto)"
   ]
  },
  {
   "cell_type": "markdown",
   "metadata": {},
   "source": [
    "# Links Referencia\n",
    "----------------------\n",
    "\n",
    "- [Lectura y Escritura de Ficheros en Python -Ingles](https://realpython.com/read-write-files-python/)\n",
    "- [Trabajando con Ficheros - Ingles](https://snakebear.science/05-StringsListsAndFiles/Files.html)\n",
    "- [Trabajando con archivos en Python -Esp](https://www.freecodecamp.org/espanol/news/python-abre-archivo-como-leer-un-archivo-de-texto-linea-por-linea/#:~:text=Si%20tu%20archivo%20de%20texto,en%20la%20funci%C3%B3n%20open()%20.&text=Si%20tu%20archivo%20de%20texto%20est%C3%A1%20en%20una%20carpeta%20diferente,correcta%20del%20archivo%20de%20texto.)\n"
   ]
  },
  {
   "cell_type": "markdown",
   "metadata": {},
   "source": [
    "# EJERCICIOS\n",
    "----------------------------"
   ]
  },
  {
   "cell_type": "markdown",
   "metadata": {},
   "source": [
    "<h3>1.</h3>\n",
    "\n",
    "En este ejercicio deberás crear un script llamado <code>personas.py</code> que lea los datos de un fichero de texto, que transforme cada fila en un diccionario y lo añada a una lista llamada personas. Luego rocorre las personas de la lista y para cada una muestra de forma amigable todos sus campos.\n",
    "\n",
    "El fichero de texto se denominará <code>personas.txt</code> y tendrá el siguiente contenido en texto plano (créalo previamente):"
   ]
  },
  {
   "cell_type": "markdown",
   "metadata": {},
   "source": [
    "<code>1;Carlos;Pérez;05/01/1989\n",
    "2;Manuel;Heredia;26/12/1973\n",
    "3;Rosa;Campos;12/06/1961\n",
    "4;David;García;25/07/2006</code>"
   ]
  },
  {
   "cell_type": "code",
   "execution_count": null,
   "metadata": {},
   "outputs": [],
   "source": [
    "ruta='./personas.txt'\n",
    "with open(ruta,mode='r') as f:\n",
    "    data=f.read()\n",
    "    #si esta separado por lineas readlines()\n",
    "\n",
    "print(data)\n",
    "#manejamos en memoria\n",
    "dataTmp=data.split(' ')\n",
    "dataTmp\n"
   ]
  }
 ],
 "metadata": {
  "kernelspec": {
   "display_name": "Python 3 (ipykernel)",
   "language": "python",
   "name": "python3"
  },
  "language_info": {
   "codemirror_mode": {
    "name": "ipython",
    "version": 3
   },
   "file_extension": ".py",
   "mimetype": "text/x-python",
   "name": "python",
   "nbconvert_exporter": "python",
   "pygments_lexer": "ipython3",
   "version": "3.10.13"
  }
 },
 "nbformat": 4,
 "nbformat_minor": 4
}
