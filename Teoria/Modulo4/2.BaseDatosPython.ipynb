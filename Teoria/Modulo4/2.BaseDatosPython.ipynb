{
 "cells": [
  {
   "cell_type": "markdown",
   "metadata": {
    "tags": []
   },
   "source": [
    "# Base de Datos con Python\n",
    "----------------------------------------------------"
   ]
  },
  {
   "cell_type": "markdown",
   "metadata": {},
   "source": [
    "En esta sección conoceremos realizaremos una introducción a las bases de datos con Python. Para esto emplearemos SQLLite el cual ya viene preinstalado en python."
   ]
  },
  {
   "cell_type": "markdown",
   "metadata": {},
   "source": [
    "## 1. Introducción a las Bases de Datos\n",
    "-------------------------------------------\n",
    "\n",
    "Las bases de datos son conjuntos de información que se almacenan y se consultan con un sistema. Los gestores de bases de datos son un tipo de software que permite estructurar una base de datos, almacenar la información y consultarla.\n",
    "\n"
   ]
  },
  {
   "cell_type": "markdown",
   "metadata": {},
   "source": [
    "https://www.youtube.com/watch?v=knVwokXITGI"
   ]
  },
  {
   "cell_type": "markdown",
   "metadata": {},
   "source": [
    "<img src='data:image/png;base64,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'>"
   ]
  },
  {
   "cell_type": "markdown",
   "metadata": {},
   "source": [
    "## 1.1. SQL Lite"
   ]
  },
  {
   "cell_type": "markdown",
   "metadata": {},
   "source": [
    "SQLite es una biblioteca de C que provee una base de datos ligera basada en disco que no requiere un proceso de servidor separado y permite acceder a la base de datos usando una variación no estándar del lenguaje de consulta SQL. Algunas aplicaciones pueden usar SQLite para almacenamiento interno.\n"
   ]
  },
  {
   "cell_type": "markdown",
   "metadata": {
    "tags": []
   },
   "source": [
    "## 2. Lenguaje SQL\n",
    "---------------------------"
   ]
  },
  {
   "cell_type": "markdown",
   "metadata": {},
   "source": [
    "El lenguaje más utilizado en las bases de datos relacionales el lenguaje SQL (Lenguaje de Consulta Estructurada), y es necesario aprenderlo si queremos utilizar este tipo de bases de datos en nuestros programas.\n",
    "\n"
   ]
  },
  {
   "cell_type": "markdown",
   "metadata": {},
   "source": [
    "<img src='https://1.bp.blogspot.com/-MuCO0K5sehg/WjPVIdp87LI/AAAAAAAABRY/Ny7-YC-tIGIHLP6dShGWEagAlEw54OXnACLcBGAs/s1600/sentencias_sql.png'>"
   ]
  },
  {
   "cell_type": "markdown",
   "metadata": {},
   "source": [
    "## 3. Primeros pasos SQL Lite"
   ]
  },
  {
   "cell_type": "code",
   "execution_count": 1,
   "metadata": {},
   "outputs": [],
   "source": [
    "# Importamos el módulo\n",
    "import sqlite3\n",
    "\n",
    "# Nos conectamos a la base de datos ejemplo.db (la crea si no existe)\n",
    "conexion = sqlite3.connect('ejemplov2.db')\n",
    "\n",
    "# Cerramos la conexión, si no la cerramos quedará abierta\n",
    "# y no podremos gestionar el fichero\n",
    "conexion.close()\n",
    "\n",
    "with sqlite3.connect('ejemplo.db') as conn:\n",
    "    pass\n"
   ]
  },
  {
   "cell_type": "markdown",
   "metadata": {},
   "source": [
    "### 3.1 Creación de una Tabla"
   ]
  },
  {
   "cell_type": "code",
   "execution_count": 2,
   "metadata": {},
   "outputs": [],
   "source": [
    "import sqlite3\n",
    "\n",
    "sentencia = \"\"\"\n",
    "CREATE TABLE IF NOT EXISTS usuariosV4(\n",
    "    person_id INTEGER PRIMARY KEY AUTOINCREMENT,\n",
    "    nombre VARCHAR(100), \n",
    "    edad INTEGER,\n",
    "    email VARCHAR(100) \n",
    ");\n",
    "\"\"\"\n",
    "with sqlite3.connect('ejemplo.db') as conexion:\n",
    "    # Creamos el cursor\n",
    "    cursor = conexion.cursor()\n",
    "\n",
    "    # Ahora crearemos una tabla de usuarios con nombres, edades y emails\n",
    "    cursor.execute(sentencia) # O QUERY\n",
    "\n",
    "    # Guardamos los cambios haciendo un commit\n",
    "    conexion.commit()"
   ]
  },
  {
   "cell_type": "markdown",
   "metadata": {},
   "source": [
    "### 3.2 Insertar"
   ]
  },
  {
   "cell_type": "code",
   "execution_count": 4,
   "metadata": {},
   "outputs": [],
   "source": [
    "import sqlite3\n",
    "\n",
    "sentencia = \"\"\"\n",
    "INSERT INTO usuariosV4(nombre,edad,email) VALUES\n",
    "('Hector', 27, 'hector@ejemplo.com')\n",
    "\"\"\"\n",
    "\n",
    "with sqlite3.connect('ejemplo.db') as conexion:\n",
    "    \n",
    "    cursor = conexion.cursor()\n",
    "    \n",
    "    # Insertamos un registro en la tabla de usuarios\n",
    "    for i in range(50):\n",
    "        cursor.execute(sentencia)\n",
    "\n",
    "    # Guardamos los cambios haciendo un commit\n",
    "        conexion.commit()"
   ]
  },
  {
   "cell_type": "markdown",
   "metadata": {},
   "source": [
    "### 3.3 Lectura de Datos"
   ]
  },
  {
   "cell_type": "code",
   "execution_count": 5,
   "metadata": {},
   "outputs": [
    {
     "name": "stdout",
     "output_type": "stream",
     "text": [
      "<sqlite3.Cursor object at 0x7f27583a8fc0>\n",
      "[(1, 'Hector', 27, 'hector@ejemplo.com'), (2, 'Hector', 27, 'hector@ejemplo.com'), (3, 'Hector', 27, 'hector@ejemplo.com'), (4, 'Hector', 27, 'hector@ejemplo.com'), (5, 'Hector', 27, 'hector@ejemplo.com'), (6, 'Hector', 27, 'hector@ejemplo.com'), (7, 'Hector', 27, 'hector@ejemplo.com'), (8, 'Hector', 27, 'hector@ejemplo.com'), (9, 'Hector', 27, 'hector@ejemplo.com'), (10, 'Hector', 27, 'hector@ejemplo.com'), (11, 'Hector', 27, 'hector@ejemplo.com'), (12, 'Hector', 27, 'hector@ejemplo.com'), (13, 'Hector', 27, 'hector@ejemplo.com'), (14, 'Hector', 27, 'hector@ejemplo.com'), (15, 'Hector', 27, 'hector@ejemplo.com'), (16, 'Hector', 27, 'hector@ejemplo.com'), (17, 'Hector', 27, 'hector@ejemplo.com'), (18, 'Hector', 27, 'hector@ejemplo.com'), (19, 'Hector', 27, 'hector@ejemplo.com'), (20, 'Hector', 27, 'hector@ejemplo.com'), (21, 'Hector', 27, 'hector@ejemplo.com'), (22, 'Hector', 27, 'hector@ejemplo.com'), (23, 'Hector', 27, 'hector@ejemplo.com'), (24, 'Hector', 27, 'hector@ejemplo.com'), (25, 'Hector', 27, 'hector@ejemplo.com'), (26, 'Hector', 27, 'hector@ejemplo.com'), (27, 'Hector', 27, 'hector@ejemplo.com'), (28, 'Hector', 27, 'hector@ejemplo.com'), (29, 'Hector', 27, 'hector@ejemplo.com'), (30, 'Hector', 27, 'hector@ejemplo.com'), (31, 'Hector', 27, 'hector@ejemplo.com'), (32, 'Hector', 27, 'hector@ejemplo.com'), (33, 'Hector', 27, 'hector@ejemplo.com'), (34, 'Hector', 27, 'hector@ejemplo.com'), (35, 'Hector', 27, 'hector@ejemplo.com'), (36, 'Hector', 27, 'hector@ejemplo.com'), (37, 'Hector', 27, 'hector@ejemplo.com'), (38, 'Hector', 27, 'hector@ejemplo.com'), (39, 'Hector', 27, 'hector@ejemplo.com'), (40, 'Hector', 27, 'hector@ejemplo.com'), (41, 'Hector', 27, 'hector@ejemplo.com'), (42, 'Hector', 27, 'hector@ejemplo.com'), (43, 'Hector', 27, 'hector@ejemplo.com'), (44, 'Hector', 27, 'hector@ejemplo.com'), (45, 'Hector', 27, 'hector@ejemplo.com'), (46, 'Hector', 27, 'hector@ejemplo.com'), (47, 'Hector', 27, 'hector@ejemplo.com'), (48, 'Hector', 27, 'hector@ejemplo.com'), (49, 'Hector', 27, 'hector@ejemplo.com'), (50, 'Hector', 27, 'hector@ejemplo.com')]\n"
     ]
    }
   ],
   "source": [
    "import sqlite3\n",
    "\n",
    "with sqlite3.connect('ejemplo.db') as conexion:\n",
    "    cursor = conexion.cursor()\n",
    "\n",
    "    # Recuperamos los registros de la tabla de usuarios\n",
    "    cursor.execute(\"SELECT * FROM usuariosV4\")\n",
    "\n",
    "    # Mostrar el cursos a ver que hay ?\n",
    "    print(cursor)\n",
    "\n",
    "    # Recorremos el primer registro con el método fetchone, devuelve una tupla\n",
    "    usuario = cursor.fetchall()\n",
    "    pass\n",
    "\n",
    "print(usuario)"
   ]
  },
  {
   "cell_type": "code",
   "execution_count": null,
   "metadata": {},
   "outputs": [],
   "source": [
    "import sqlite3\n",
    "\n",
    "# Creamos una lista de tuplas con varios usuarios\n",
    "usuarios = [('Mario', 51, 'mario@ejemplo.com'),\n",
    "            ('Mercedes', 38, 'mercedes@ejemplo.com'),\n",
    "            ('Juan', 19, 'juan@ejemplo.com')]\n",
    "\n",
    "with sqlite3.connect('ejemplo.db') as conexion:\n",
    "    \n",
    "    cursor = conexion.cursor()\n",
    "\n",
    "    # Ahora utilizamos el método executemany() para insertar varios\n",
    "    cursor.executemany(\"INSERT INTO usuariosV4(nombre,edad,email) VALUES (?,?,?)\", usuarios)\n",
    "\n",
    "    # Guardamos los cambios haciendo un commit\n",
    "    conexion.commit()\n",
    "    pass\n"
   ]
  },
  {
   "cell_type": "code",
   "execution_count": null,
   "metadata": {},
   "outputs": [],
   "source": [
    "import sqlite3\n",
    "\n",
    "with sqlite3.connect('ejemplo.db') as conexion:\n",
    "    cursor = conexion.cursor()\n",
    "\n",
    "    # Recuperamos los registros de la tabla de usuarios\n",
    "    cursor.execute(\"SELECT * FROM usuariosV4\")\n",
    "\n",
    "    # Recorremos todos los registros con fetchall\n",
    "    # y los volcamos en una lista de usuarios\n",
    "    usuarios = cursor.fetchall()\n",
    "    pass\n",
    "\n",
    "# Ahora podemos recorrer todos los usuarios\n",
    "for usuario in usuarios:\n",
    "    print(usuario)"
   ]
  },
  {
   "cell_type": "code",
   "execution_count": null,
   "metadata": {},
   "outputs": [],
   "source": []
  }
 ],
 "metadata": {
  "interpreter": {
   "hash": "60ed20e32fccb190e74c562e5b1355c75b8bbe60ad6a5cbb503de8aaff5a83ef"
  },
  "kernelspec": {
   "display_name": "Python 3 (ipykernel)",
   "language": "python",
   "name": "python3"
  },
  "language_info": {
   "codemirror_mode": {
    "name": "ipython",
    "version": 3
   },
   "file_extension": ".py",
   "mimetype": "text/x-python",
   "name": "python",
   "nbconvert_exporter": "python",
   "pygments_lexer": "ipython3",
   "version": "3.10.13"
  }
 },
 "nbformat": 4,
 "nbformat_minor": 4
}
